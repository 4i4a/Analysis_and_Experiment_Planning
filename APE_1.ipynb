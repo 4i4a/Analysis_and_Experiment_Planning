{
 "cells": [
  {
   "cell_type": "code",
   "execution_count": 166,
   "metadata": {},
   "outputs": [],
   "source": [
    "import numpy as np\n",
    "import matplotlib.pyplot as plt"
   ]
  },
  {
   "cell_type": "code",
   "execution_count": 167,
   "metadata": {},
   "outputs": [],
   "source": [
    "def f1(x):\n",
    "    return x**4\n",
    "\n",
    "def f2(x):\n",
    "    return x**3\n",
    "\n",
    "def f3(x):\n",
    "    return x**2\n",
    "\n",
    "def f4(x):\n",
    "    return x\n",
    "\n",
    "def f5(x):\n",
    "    return 1"
   ]
  },
  {
   "cell_type": "code",
   "execution_count": 168,
   "metadata": {},
   "outputs": [],
   "source": [
    "def f_(eps, j):\n",
    "    f = np.array([[f1(eps[0,j])],\n",
    "                 [f2(eps[0,j])],\n",
    "                 [f3(eps[0,j])],\n",
    "                 [f4(eps[0,j])],\n",
    "                 [f5(eps[0,j])]]) \n",
    "    return f"
   ]
  },
  {
   "cell_type": "code",
   "execution_count": 169,
   "metadata": {},
   "outputs": [],
   "source": [
    "def M_eps(eps):\n",
    "\n",
    "    M = 0\n",
    "    \n",
    "    for k in range(0, 5):\n",
    "         M = M + eps[1,k]*(f_(eps, k).astype(float) @ f_(eps, k).astype(float).transpose())\n",
    "         \n",
    "    return M"
   ]
  },
  {
   "cell_type": "code",
   "execution_count": 170,
   "metadata": {},
   "outputs": [],
   "source": [
    "eps1 = np.array([[-1,   -0.707, 0,      0.707, 1],\n",
    "                 [0.093, 0.248, 0.3178, 0.248, 0.093]])\n",
    "\n",
    "eps2 = np.array([[-1,   -0.683,  0,     0.683, 1],\n",
    "                 [0.107, 0.25,   0.286, 0.25,  0.107]])\n",
    "\n",
    "eps3 = np.array([[-1,    -0.7379,   0,      0.7379,  1],\n",
    "                 [0.1092, 0.2513,   0.2785, 0.2513,  0.1092]])\n",
    "\n",
    "eps4 = np.array([[-1, -0.7,  0,   0.7, 1],\n",
    "                 [0.2, 0.2,  0.2, 0.2, 0.2]])"
   ]
  },
  {
   "cell_type": "code",
   "execution_count": 171,
   "metadata": {
    "scrolled": true
   },
   "outputs": [],
   "source": [
    "M1 = M_eps(eps1)\n",
    "\n",
    "M2 = M_eps(eps2)\n",
    "\n",
    "M3 = M_eps(eps3)\n",
    "\n",
    "M4 = M_eps(eps4)"
   ]
  },
  {
   "cell_type": "markdown",
   "metadata": {},
   "source": [
    "### вычисление критерия D-оптимальности ###"
   ]
  },
  {
   "cell_type": "code",
   "execution_count": 172,
   "metadata": {},
   "outputs": [],
   "source": [
    "def Det(M):\n",
    "    return np.linalg.det(M)"
   ]
  },
  {
   "cell_type": "code",
   "execution_count": 173,
   "metadata": {},
   "outputs": [],
   "source": [
    "def D_opt(M1, M2, M3, M4):\n",
    "    \n",
    "    det_of_M = np.array([[Det(M1), 1],\n",
    "                         [Det(M2), 2],\n",
    "                         [Det(M3), 3],\n",
    "                         [Det(M4), 4]])\n",
    "                                          \n",
    "    return det_of_M[det_of_M[:,0].argsort()][::-1]"
   ]
  },
  {
   "cell_type": "code",
   "execution_count": 174,
   "metadata": {},
   "outputs": [
    {
     "data": {
      "text/plain": [
       "array([[4.07510596e-05, 4.00000000e+00],\n",
       "       [2.69296881e-05, 2.00000000e+00],\n",
       "       [2.33199554e-05, 3.00000000e+00],\n",
       "       [2.11380141e-05, 1.00000000e+00]])"
      ]
     },
     "execution_count": 174,
     "metadata": {},
     "output_type": "execute_result"
    }
   ],
   "source": [
    "D_opt(M1, M2, M3, M4)"
   ]
  },
  {
   "cell_type": "markdown",
   "metadata": {},
   "source": [
    "#### D-оптимальный план  - $\\varepsilon_4$"
   ]
  },
  {
   "cell_type": "markdown",
   "metadata": {},
   "source": [
    "### вычисление критерия А-оптимальности"
   ]
  },
  {
   "cell_type": "code",
   "execution_count": 175,
   "metadata": {},
   "outputs": [],
   "source": [
    "def A_opt(M1, M2, M3, M4):\n",
    "   \n",
    "    tr_of_D = np.array([[np.trace(np.linalg.inv(M1)), 1],\n",
    "                        [np.trace(np.linalg.inv(M2)), 2],\n",
    "                        [np.trace(np.linalg.inv(M3)), 3],\n",
    "                        [np.trace(np.linalg.inv(M4)), 4]])\n",
    "\n",
    "    return tr_of_D[tr_of_D[:,0].argsort()]"
   ]
  },
  {
   "cell_type": "code",
   "execution_count": 176,
   "metadata": {},
   "outputs": [
    {
     "data": {
      "text/plain": [
       "array([[188.80273155,   2.        ],\n",
       "       [194.56083913,   1.        ],\n",
       "       [201.72662904,   3.        ],\n",
       "       [215.19180141,   4.        ]])"
      ]
     },
     "execution_count": 176,
     "metadata": {},
     "output_type": "execute_result"
    }
   ],
   "source": [
    "A_opt(M1, M2, M3, M4)"
   ]
  },
  {
   "cell_type": "markdown",
   "metadata": {},
   "source": [
    "### A-оптимальный план - $\\varepsilon_2$"
   ]
  },
  {
   "cell_type": "markdown",
   "metadata": {},
   "source": [
    "### Вычисление критерия Е-оптимальности"
   ]
  },
  {
   "cell_type": "code",
   "execution_count": 177,
   "metadata": {},
   "outputs": [],
   "source": [
    "def E_opt(M1, M2, M3, M4):\n",
    "    \n",
    "    min_eigenvalues = np.array([[np.amin(np.linalg.eig(M1)[0]), 1],\n",
    "                                [np.amin(np.linalg.eig(M2)[0]), 2],\n",
    "                                [np.amin(np.linalg.eig(M3)[0]), 3],\n",
    "                                [np.amin(np.linalg.eig(M4)[0]), 4]])\n",
    "    \n",
    "    return min_eigenvalues[min_eigenvalues[:,0].argsort()][::-1]"
   ]
  },
  {
   "cell_type": "code",
   "execution_count": 178,
   "metadata": {},
   "outputs": [
    {
     "data": {
      "text/plain": [
       "array([[0.00775039, 1.        ],\n",
       "       [0.00761468, 3.        ],\n",
       "       [0.00754691, 2.        ],\n",
       "       [0.00632982, 4.        ]])"
      ]
     },
     "execution_count": 178,
     "metadata": {},
     "output_type": "execute_result"
    }
   ],
   "source": [
    "E_opt(M1, M2, M3, M4)"
   ]
  },
  {
   "cell_type": "markdown",
   "metadata": {},
   "source": [
    "#### E-оптимальный план - $\\varepsilon_1$"
   ]
  },
  {
   "cell_type": "markdown",
   "metadata": {},
   "source": [
    "### Вычисление критерия $\\Phi_2$-оптимальности"
   ]
  },
  {
   "cell_type": "code",
   "execution_count": 179,
   "metadata": {},
   "outputs": [],
   "source": [
    "def Phi_2(M):\n",
    "    \n",
    "    return 0.5*np.trace(np.linalg.matrix_power((np.linalg.inv(M)), 2))\n",
    "    "
   ]
  },
  {
   "cell_type": "code",
   "execution_count": 180,
   "metadata": {},
   "outputs": [],
   "source": [
    "def Phi_2_opt(M1, M2, M3, M4):\n",
    "    \n",
    "    Phi_values = np.array([[Phi_2(M1), 1],\n",
    "                           [Phi_2(M2), 2],\n",
    "                           [Phi_2(M3), 3],\n",
    "                           [Phi_2(M4), 4]])\n",
    "    \n",
    "    return Phi_values[Phi_values[:,0].argsort()]"
   ]
  },
  {
   "cell_type": "code",
   "execution_count": 181,
   "metadata": {},
   "outputs": [
    {
     "data": {
      "text/plain": [
       "array([[9.97923715e+03, 2.00000000e+00],\n",
       "       [1.00005808e+04, 1.00000000e+00],\n",
       "       [1.05974302e+04, 3.00000000e+00],\n",
       "       [1.37535666e+04, 4.00000000e+00]])"
      ]
     },
     "execution_count": 181,
     "metadata": {},
     "output_type": "execute_result"
    }
   ],
   "source": [
    "Phi_2_opt(M1, M2, M3, M4)"
   ]
  },
  {
   "cell_type": "markdown",
   "metadata": {},
   "source": [
    "\n",
    "#### $\\Phi_2$ -оптимальный план - $\\varepsilon_2$"
   ]
  },
  {
   "cell_type": "markdown",
   "metadata": {},
   "source": [
    "### Вычисление критерия MV-оптимальности"
   ]
  },
  {
   "cell_type": "code",
   "execution_count": 182,
   "metadata": {},
   "outputs": [],
   "source": [
    "def D_ii_max(M):\n",
    "    \n",
    "    return np.amax(np.linalg.inv(M).diagonal())"
   ]
  },
  {
   "cell_type": "code",
   "execution_count": 183,
   "metadata": {},
   "outputs": [],
   "source": [
    "def MV_opt(M1, M2, M3, M4):\n",
    "    \n",
    "    max_diag_values = np.array([[D_ii_max(M1), 1],\n",
    "                                [D_ii_max(M2), 2],\n",
    "                                [D_ii_max(M3), 3],\n",
    "                                [D_ii_max(M4), 4]])\n",
    "    \n",
    "    return max_diag_values[max_diag_values[:,0].argsort()]"
   ]
  },
  {
   "cell_type": "code",
   "execution_count": 184,
   "metadata": {},
   "outputs": [
    {
     "data": {
      "text/plain": [
       "array([[66.3446015 ,  1.        ],\n",
       "       [67.77814   ,  3.        ],\n",
       "       [70.41684694,  2.        ],\n",
       "       [88.57260511,  4.        ]])"
      ]
     },
     "execution_count": 184,
     "metadata": {},
     "output_type": "execute_result"
    }
   ],
   "source": [
    "MV_opt(M1, M2, M3, M4)"
   ]
  },
  {
   "cell_type": "markdown",
   "metadata": {},
   "source": [
    "#### MV-оптимальный план - $\\varepsilon_1$"
   ]
  },
  {
   "cell_type": "markdown",
   "metadata": {},
   "source": [
    "### Вычисление критерия G-оптимальности"
   ]
  },
  {
   "cell_type": "code",
   "execution_count": 185,
   "metadata": {},
   "outputs": [],
   "source": [
    "def max_d(eps):\n",
    "   \n",
    "    values_of_d = np.zeros(len(eps[0,:]))\n",
    "    \n",
    "    for k in range (0, len(eps[0,:])):\n",
    "        values_of_d[k] = f_(eps, k).transpose()@ np.linalg.inv(M_eps(eps)) @ f_(eps, k)\n",
    "    \n",
    "    return np.amax(values_of_d)"
   ]
  },
  {
   "cell_type": "code",
   "execution_count": 186,
   "metadata": {},
   "outputs": [],
   "source": [
    "def G_opt (eps1, eps2, eps3, eps4):\n",
    "    \n",
    "    d_max_values = np.array([[max_d(eps1), 1],\n",
    "                             [max_d(eps2), 2],\n",
    "                             [max_d(eps3), 3],\n",
    "                             [max_d(eps4), 4]])\n",
    "    \n",
    "    return d_max_values[d_max_values[:,0].argsort()]\n",
    "    "
   ]
  },
  {
   "cell_type": "code",
   "execution_count": 187,
   "metadata": {},
   "outputs": [
    {
     "data": {
      "text/plain": [
       "array([[ 5.        ,  4.        ],\n",
       "       [ 9.15750916,  3.        ],\n",
       "       [ 9.34579439,  2.        ],\n",
       "       [10.75268817,  1.        ]])"
      ]
     },
     "execution_count": 187,
     "metadata": {},
     "output_type": "execute_result"
    }
   ],
   "source": [
    "G_opt(eps1, eps2, eps3, eps4)"
   ]
  },
  {
   "cell_type": "markdown",
   "metadata": {},
   "source": [
    "#### G-оптимальный план - $\\varepsilon_4$ "
   ]
  },
  {
   "cell_type": "markdown",
   "metadata": {},
   "source": [
    "### Вычисление критерия $\\Lambda$-оптимальности"
   ]
  },
  {
   "cell_type": "code",
   "execution_count": 188,
   "metadata": {},
   "outputs": [],
   "source": [
    "def L_func(M):\n",
    "    \n",
    "    return np.sum((np.linalg.eig(M)[0] - np.mean(np.linalg.eig(M)[0]))**2)"
   ]
  },
  {
   "cell_type": "code",
   "execution_count": 189,
   "metadata": {},
   "outputs": [],
   "source": [
    "def L_opt(M1, M2, M3, M4):\n",
    "    \n",
    "    L_func_values = np.array([[L_func(M1), 1],\n",
    "                              [L_func(M2), 2],\n",
    "                              [L_func(M3), 3],\n",
    "                              [L_func(M4), 4]])\n",
    "    \n",
    "    return L_func_values[L_func_values[:,0].argsort()]"
   ]
  },
  {
   "cell_type": "code",
   "execution_count": 190,
   "metadata": {},
   "outputs": [
    {
     "data": {
      "text/plain": [
       "array([[1.30069764, 1.        ],\n",
       "       [1.35504314, 2.        ],\n",
       "       [1.56610729, 3.        ],\n",
       "       [2.3196154 , 4.        ]])"
      ]
     },
     "execution_count": 190,
     "metadata": {},
     "output_type": "execute_result"
    }
   ],
   "source": [
    "L_opt(M1, M2, M3, M4)"
   ]
  },
  {
   "cell_type": "markdown",
   "metadata": {},
   "source": [
    "#### $\\Lambda$-оптимальный критерий - $\\varepsilon_1$"
   ]
  },
  {
   "cell_type": "code",
   "execution_count": 191,
   "metadata": {},
   "outputs": [
    {
     "data": {
      "text/plain": [
       "1.0"
      ]
     },
     "execution_count": 191,
     "metadata": {},
     "output_type": "execute_result"
    }
   ],
   "source": [
    "q = 0.07\n",
    "q +  0.25 - 0.5*q + 0.5 - q + 0.25 - 0.5*q + q"
   ]
  },
  {
   "cell_type": "markdown",
   "metadata": {},
   "source": [
    "### Построение $\\Phi_2$-оптимального плана \n",
    "\n",
    "### Предположим, что $\\Phi_2$-оптимальный план принадлежит классу планов следующего вида\n",
    "\n",
    "### $\\varepsilon= \\begin{Bmatrix}\n",
    "-1  & -0.707 & 0 & 0.707 & 1\\\\\n",
    "q  &  0.25 - 0.5q &  0.5 - q & 0.25 - 0.5q & q\n",
    "\\end{Bmatrix}$"
   ]
  },
  {
   "cell_type": "code",
   "execution_count": 192,
   "metadata": {},
   "outputs": [],
   "source": [
    "q =  np.linspace(0.01, 0.1, num = 21)\n"
   ]
  },
  {
   "cell_type": "code",
   "execution_count": 193,
   "metadata": {},
   "outputs": [],
   "source": [
    "def eps_a (q):\n",
    "    return np.array([[-1,   -0.707, 0,      0.707, 1],\n",
    "                     [q, 0.25 - 0.5*q, 0.5 - q, 0.25 - 0.5*q, q]])"
   ]
  },
  {
   "cell_type": "code",
   "execution_count": 194,
   "metadata": {},
   "outputs": [],
   "source": [
    "def Phi_2_a(q):\n",
    "    \n",
    "    Phi_2_an_value = np.zeros(len(q))\n",
    "    \n",
    "    for k in range (0, len(q)):\n",
    "        Phi_2_an_value[k] = Phi_2(M_eps(eps_a(q[k])))\n",
    "    \n",
    "    return Phi_2_an_value"
   ]
  },
  {
   "cell_type": "code",
   "execution_count": 195,
   "metadata": {},
   "outputs": [
    {
     "data": {
      "text/plain": [
       "array([94169.1448108 , 53318.87754798, 36694.21354255, 28137.14200983,\n",
       "       23087.07025832, 19830.10644421, 17596.62045379, 15995.92341397,\n",
       "       14811.02970213, 13912.83666844, 13220.23458557, 12679.97118629,\n",
       "       12255.79145164, 11922.25210778, 11661.03421039, 11458.65804694,\n",
       "       11305.01903342, 11192.42204696, 11114.92811823, 11067.90242402,\n",
       "       11047.69527141])"
      ]
     },
     "execution_count": 195,
     "metadata": {},
     "output_type": "execute_result"
    }
   ],
   "source": [
    "Phi_2_a(q)"
   ]
  },
  {
   "cell_type": "code",
   "execution_count": 208,
   "metadata": {},
   "outputs": [
    {
     "data": {
      "image/png": "[encoded data removed]",
      "text/plain": [
       "<Figure size 648x432 with 1 Axes>"
      ]
     },
     "metadata": {
      "needs_background": "light"
     },
     "output_type": "display_data"
    }
   ],
   "source": [
    "plt.figure(figsize=(9,6))\n",
    "plt.plot(q, Phi_2_a(q), label=' ', marker = 'o')\n",
    "\n",
    "plt.xlabel('q')\n",
    "plt.ylabel('Phi_2')\n",
    "\n",
    "plt.title(\"Phi_(q)\")\n",
    "\n",
    "plt.legend()\n",
    "\n",
    "plt.show()"
   ]
  },
  {
   "cell_type": "markdown",
   "metadata": {},
   "source": [
    "### Результат соответствует плану $\\varepsilon_3$ при условии, что $\\Phi_2$-оптимальный план принадлежит указанному выше классу \n",
    "\n",
    "### $\\Phi_2(q) = 11047.695271407674 \\quad q = 0.1$\n"
   ]
  },
  {
   "cell_type": "code",
   "execution_count": null,
   "metadata": {},
   "outputs": [],
   "source": []
  }
 ],
 "metadata": {
  "kernelspec": {
   "display_name": "Python 3",
   "language": "python",
   "name": "python3"
  },
  "language_info": {
   "codemirror_mode": {
    "name": "ipython",
    "version": 3
   },
   "file_extension": ".py",
   "mimetype": "text/x-python",
   "name": "python",
   "nbconvert_exporter": "python",
   "pygments_lexer": "ipython3",
   "version": "3.7.0"
  }
 },
 "nbformat": 4,
 "nbformat_minor": 2
}
